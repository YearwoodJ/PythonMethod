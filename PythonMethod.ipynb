{
  "nbformat": 4,
  "nbformat_minor": 0,
  "metadata": {
    "colab": {
      "provenance": []
    },
    "kernelspec": {
      "name": "python3",
      "display_name": "Python 3"
    },
    "language_info": {
      "name": "python"
    }
  },
  "cells": [
    {
      "cell_type": "code",
      "execution_count": 13,
      "metadata": {
        "colab": {
          "base_uri": "https://localhost:8080/"
        },
        "id": "Rsr19zUiHlAj",
        "outputId": "552a526c-a02a-4fc7-c709-567273efbcea"
      },
      "outputs": [
        {
          "output_type": "stream",
          "name": "stdout",
          "text": [
            "Please enter an integer between 5 and 15: 14\n",
            "The elements in the list are:\n",
            "14 14 17 12 11 19 17 44 49 48 17 40 19 24 The sum of the list is: 345\n"
          ]
        }
      ],
      "source": [
        "import random\n",
        "\n",
        "def random_array(arraylen):\n",
        "    return [random.randint(10, 50) for _ in range(array_len)]\n",
        "\n",
        "def sum_array(array):\n",
        "    return sum(array)\n",
        "\n",
        "while True:\n",
        "    try:\n",
        "        array_len = int(input(\"Please enter an integer between 5 and 15: \"))\n",
        "        if 5 <= array_len <= 15:\n",
        "            my_list = random_array(array_len)\n",
        "            print('The elements in the list are:')\n",
        "            for element in my_list:\n",
        "                print(element, end=\" \")\n",
        "            print('The sum of the list is:', sum_array(my_list))\n",
        "            break\n",
        "        else:\n",
        "            print(\"Invalid input. Please enter an integer between 5 and 15.\")\n",
        "    except ValueError:\n",
        "        print(\"Invalid input. Please enter an integer between 5 and 15.\")\n"
      ]
    }
  ]
}